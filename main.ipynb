{
 "cells": [
  {
   "cell_type": "markdown",
   "metadata": {},
   "source": [
    "# Evaluacion de diagnostico de buenas prácticas de gitflow"
   ]
  },
  {
   "cell_type": "code",
   "execution_count": 1,
   "metadata": {},
   "outputs": [],
   "source": [
    "import json\n",
    "import operator\n",
    "\n",
    "with open('farmers-protest-tweets-2021-03-5.json') as file:\n",
    "    data = file.readlines()\n",
    "\n",
    "lista_dic_tweets = []\n",
    "for dic_tweet in data:\n",
    "    diccionario_tweet = json.loads(dic_tweet)\n",
    "    lista_dic_tweets.append(diccionario_tweet)"
   ]
  },
  {
   "cell_type": "markdown",
   "metadata": {},
   "source": [
    "### 1) Top 10 tweets más retweeted"
   ]
  },
  {
   "cell_type": "code",
   "execution_count": 2,
   "metadata": {},
   "outputs": [],
   "source": [
    "def top_10_retweeted_tweets():\n",
    "\n",
    "    lista_dic_tweets.sort(key=lambda p: p['retweetCount'])\n",
    "    top_10_diccionarios = lista_dic_tweets[-10:]\n",
    "    \n",
    "    lista_top_10_tweets = []\n",
    "    for diccionario in top_10_diccionarios:\n",
    "        lista_top_10_tweets.append( [diccionario['content'], diccionario['retweetCount']] )\n",
    " \n",
    "    print(\"\")\n",
    "    print(\"Los 10 tweets mas retweeteados son los siguientes:\")\n",
    "    print(\"\")\n",
    "    i = 10\n",
    "    for tweet in lista_top_10_tweets:\n",
    "        print(\"[\" + str(i) + \"] - \" + '\"' + tweet[0] + '\"' + \" con \" + str(tweet[1]) + \" retweets.\")\n",
    "        i -= 1"
   ]
  },
  {
   "cell_type": "markdown",
   "metadata": {},
   "source": [
    "### 2) Top 10 usuarios en función a la cantidad de tweets que emitieron"
   ]
  },
  {
   "cell_type": "code",
   "execution_count": 3,
   "metadata": {},
   "outputs": [],
   "source": [
    "def top_10_users():\n",
    "\n",
    "    lista_dic_users = []\n",
    "    for diccionario in lista_dic_tweets:\n",
    "        diccionario_usuario = diccionario['user']\n",
    "        lista_dic_users.append(diccionario_usuario)\n",
    "\n",
    "    diccionario_usuarios_cant = {}\n",
    "\n",
    "    for dic in lista_dic_users:\n",
    "        nombre = dic['username']\n",
    "\n",
    "        if nombre in diccionario_usuarios_cant:\n",
    "            diccionario_usuarios_cant[nombre] += 1\n",
    "        else:\n",
    "            diccionario_usuarios_cant[nombre] = 1\n",
    "\n",
    "    sortedDict = sorted(diccionario_usuarios_cant.items(), key=operator.itemgetter(1))\n",
    "\n",
    "    top_10 = sortedDict[-10:]\n",
    "\n",
    "    print(\"\")\n",
    "    print(\"Los top 10 usuarios en función a la cantidad de tweets que emitieron son los siguientes:\")\n",
    "    print(\"\")\n",
    "    i = 10\n",
    "    for tupla in top_10:\n",
    "        print(\"[\" + str(i) + \"] - \" + str(tupla[0]) + \" con \" + str(tupla[1]) + \" tweets.\")\n",
    "        i -= 1"
   ]
  },
  {
   "cell_type": "markdown",
   "metadata": {},
   "source": [
    "### 3) Top 10 días donde hay más tweets"
   ]
  },
  {
   "cell_type": "code",
   "execution_count": 4,
   "metadata": {},
   "outputs": [],
   "source": [
    "def top_days():\n",
    "\n",
    "    diccionario_dia_cant = {}\n",
    "\n",
    "    for diccionario in lista_dic_tweets:\n",
    "        fecha = diccionario['date'].split(\"T\")\n",
    "        dia = fecha[0]\n",
    "\n",
    "        if dia in diccionario_dia_cant:\n",
    "            diccionario_dia_cant[dia] += 1\n",
    "        else:\n",
    "            diccionario_dia_cant[dia] = 1\n",
    "\n",
    "    sortedDict = sorted(diccionario_dia_cant.items(), key=operator.itemgetter(1))\n",
    "\n",
    "    top_10 = sortedDict[-10:]\n",
    "\n",
    "    print(\"\")\n",
    "    print(\"Los top 10 días donde hay mas tweets son los siguientes:\")\n",
    "    print(\"\")\n",
    "    i = 10\n",
    "    for tupla in top_10:\n",
    "        print(\"[\" + str(i) + \"] - \" + str(tupla[0]) + \" con \" + str(tupla[1]) + \" tweets.\")\n",
    "        i -= 1"
   ]
  },
  {
   "cell_type": "markdown",
   "metadata": {},
   "source": [
    "### 4) Top 10 hashtags más usados"
   ]
  },
  {
   "cell_type": "code",
   "execution_count": 5,
   "metadata": {},
   "outputs": [],
   "source": [
    "def top_ten_hashtags():\n",
    "\n",
    "    diccionario_hashtag_cant = {}\n",
    "\n",
    "    for diccionario in lista_dic_tweets:\n",
    "\n",
    "        mensaje = diccionario['content']\n",
    "        m2 = mensaje.replace(\"\\n\", \" \")\n",
    "        m3 = json.dumps(m2)\n",
    "        mensaje_spliteado = m3.split(\" \")\n",
    "\n",
    "        for m4 in mensaje_spliteado:\n",
    "            if \"#\" in m4:\n",
    "                if m4[-1] == '\"':\n",
    "                    m4 = m4[:-1]\n",
    "                if m4[0] == '(':\n",
    "                    m4 = m4[1:]\n",
    "\n",
    "                if m4[-1] == ')':\n",
    "                    m4 = m4[:-1]\n",
    "                if m4[0] == '\"':\n",
    "                    m4 = m4[1:]\n",
    "\n",
    "                hashtag = m4\n",
    "\n",
    "                if hashtag in diccionario_hashtag_cant:\n",
    "                    diccionario_hashtag_cant[hashtag] += 1\n",
    "                else:\n",
    "                    diccionario_hashtag_cant[hashtag] = 1\n",
    "\n",
    "    sortedDict = sorted(diccionario_hashtag_cant.items(), key=operator.itemgetter(1))\n",
    "\n",
    "    top_10 = sortedDict[-10:]\n",
    "\n",
    "    print(\"Los top 10 hashtags mas usados son los siguientes:\")\n",
    "    print(\"\")\n",
    "    i = 10\n",
    "    for tupla in top_10:\n",
    "        print(\"[\" + str(i) + \"] - \" + str(tupla[0]) + \" con \" + str(tupla[1]) + \" menciones.\")\n",
    "        i -= 1"
   ]
  },
  {
   "cell_type": "markdown",
   "metadata": {},
   "source": [
    "## Función Main"
   ]
  },
  {
   "cell_type": "code",
   "execution_count": 6,
   "metadata": {},
   "outputs": [
    {
     "name": "stdout",
     "output_type": "stream",
     "text": [
      "Los 10 tweets mas retweeteados son los siguientes:\n",
      "\n",
      "[10] - \"To all of my influencer/celeb friends- read up on this   #FarmersProtest 👀\" con 15677 retweets.\n",
      "[9] - \"Should be talking about this! #FarmersProtest\n",
      "\n",
      "https://t.co/Xh09iTvVoF\" con 17368 retweets.\n",
      "[8] - \"Farmers feed the world. Fight for them. Protect them #FarmersProtest\" con 18744 retweets.\n",
      "[7] - \"There has been much social media coverage around the #FarmersProtest in #India. Very useful guide to the legislation and the impact on farmers. 1/2 https://t.co/3CsdgBebdZ\" con 20132 retweets.\n",
      "[6] - \"Happy to share that I’ve donated $10,000 to provide medical assistance to the farmers in need in India to help save lives during these times. I hope we can prevent any additional life from being lost. 🙏🏾 #FarmersProtest https://t.co/0WoEw0l3ij\" con 23251 retweets.\n",
      "[5] - \"What in the human rights violations is going on?! They cut the internet around New Delhi?! #FarmersProtest https://t.co/a5ml1P2ikU\" con 26972 retweets.\n",
      "[4] - \"“Paid actors,” huh? Quite the casting director, I hope they’re not overlooked during awards season. I stand with the farmers. #FarmersProtest https://t.co/moONj03tN0\" con 35921 retweets.\n",
      "[3] - \"I still #StandWithFarmers and support their peaceful protest.\n",
      "No amount of hate, threats or violations of human rights will ever change that. #FarmersProtest\" con 67694 retweets.\n",
      "[2] - \"We stand in solidarity with the #FarmersProtest in India.\n",
      " https://t.co/tqvR0oHgo0\" con 103957 retweets.\n",
      "[1] - \"why aren’t we talking about this?! #FarmersProtest https://t.co/obmIlXhK9S\" con 315547 retweets.\n",
      "Los top 10 usuarios en función a la cantidad de tweets que emitieron son los siguientes:\n",
      "\n",
      "[10] - z_khalique007 con 1446 tweets.\n",
      "[9] - DigitalKisanBot con 1453 tweets.\n",
      "[8] - Jass_k_G con 1460 tweets.\n",
      "[7] - Iamjazzie96 con 1502 tweets.\n",
      "[6] - rumsomal con 1722 tweets.\n",
      "[5] - rebelpacifist con 1806 tweets.\n",
      "[4] - jot__b con 1841 tweets.\n",
      "[3] - shells_n_petals con 1991 tweets.\n",
      "[2] - tasveersandhu con 2091 tweets.\n",
      "[1] - harjot_tweeting con 7134 tweets.\n"
     ]
    }
   ],
   "source": [
    "if __name__ == \"__main__\":\n",
    "    top_10_retweeted_tweets()\n",
    "    top_10_users()\n",
    "    top_days()\n",
    "    top_ten_hashtags()\n"
   ]
  },
  {
   "cell_type": "code",
   "execution_count": null,
   "metadata": {},
   "outputs": [],
   "source": []
  }
 ],
 "metadata": {
  "kernelspec": {
   "display_name": "Python 3 (ipykernel)",
   "language": "python",
   "name": "python3"
  },
  "language_info": {
   "codemirror_mode": {
    "name": "ipython",
    "version": 3
   },
   "file_extension": ".py",
   "mimetype": "text/x-python",
   "name": "python",
   "nbconvert_exporter": "python",
   "pygments_lexer": "ipython3",
   "version": "3.8.10"
  }
 },
 "nbformat": 4,
 "nbformat_minor": 2
}
